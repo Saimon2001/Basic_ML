{
 "cells": [
  {
   "cell_type": "code",
   "execution_count": null,
   "metadata": {},
   "outputs": [],
   "source": [
    "#https://www.kaggle.com/code/dennisbakhuis/titanic-k-nearest-neighbor-knn-frmscratch-0-813/notebook"
   ]
  },
  {
   "cell_type": "code",
   "execution_count": 1,
   "metadata": {},
   "outputs": [],
   "source": [
    "import numpy as np\n",
    "import pandas as pd\n",
    "from sklearn.preprocessing import LabelEncoder, StandardScaler"
   ]
  },
  {
   "cell_type": "code",
   "execution_count": 2,
   "metadata": {},
   "outputs": [],
   "source": [
    "df_test = pd.read_csv('/Users/Simon/OneDrive - Sistemas Expertos S.A.S/PC SIMON/Programacion/python/datasets/titanic/test.csv')\n",
    "df_train = pd.read_csv('/Users/Simon/OneDrive - Sistemas Expertos S.A.S/PC SIMON/Programacion/python/datasets/titanic/train.csv')"
   ]
  },
  {
   "attachments": {},
   "cell_type": "markdown",
   "metadata": {},
   "source": [
    "#### Missing values"
   ]
  },
  {
   "cell_type": "code",
   "execution_count": 3,
   "metadata": {},
   "outputs": [],
   "source": [
    "df_train['set'], df_test['set'] = 'train', 'test'\n",
    "combined = pd.concat([df_train, df_test])"
   ]
  },
  {
   "cell_type": "code",
   "execution_count": 4,
   "metadata": {},
   "outputs": [
    {
     "data": {
      "text/plain": [
       "PassengerId       0\n",
       "Survived        418\n",
       "Pclass            0\n",
       "Name              0\n",
       "Sex               0\n",
       "Age             263\n",
       "SibSp             0\n",
       "Parch             0\n",
       "Ticket            0\n",
       "Fare              1\n",
       "Cabin          1014\n",
       "Embarked          2\n",
       "set               0\n",
       "dtype: int64"
      ]
     },
     "execution_count": 4,
     "metadata": {},
     "output_type": "execute_result"
    }
   ],
   "source": [
    "combined.isna().sum()"
   ]
  },
  {
   "cell_type": "code",
   "execution_count": 5,
   "metadata": {},
   "outputs": [],
   "source": [
    "combined = combined.drop('Cabin',  axis=1)"
   ]
  },
  {
   "cell_type": "code",
   "execution_count": 6,
   "metadata": {},
   "outputs": [],
   "source": [
    "pclass = combined.loc[combined.Fare.isnull(), 'Pclass'].values[0]\n",
    "median_fare_pclass = combined.loc[combined.Pclass == pclass, 'Fare'].median()\n",
    "combined.loc[combined.Fare.isnull(), 'Fare'] = median_fare_pclass"
   ]
  },
  {
   "cell_type": "code",
   "execution_count": 7,
   "metadata": {},
   "outputs": [
    {
     "data": {
      "text/plain": [
       "array(['Mr', 'Mrs', 'Miss', 'Master', 'Don', 'Rev', 'Dr', 'Mme', 'Ms',\n",
       "       'Major', 'Lady', 'Sir', 'Mlle', 'Col', 'Capt', 'Countess',\n",
       "       'Jonkheer', 'Dona'], dtype=object)"
      ]
     },
     "execution_count": 7,
     "metadata": {},
     "output_type": "execute_result"
    }
   ],
   "source": [
    "# Select everything before the . as title\n",
    "combined['Title'] = combined['Name'].str.extract('([A-Za-z]+)\\.', expand=True)\n",
    "combined['Title'].unique()"
   ]
  },
  {
   "cell_type": "code",
   "execution_count": 8,
   "metadata": {},
   "outputs": [
    {
     "data": {
      "text/plain": [
       "array(['Mr', 'Mrs', 'Miss', 'Master', 'Rev', 'Dr'], dtype=object)"
      ]
     },
     "execution_count": 8,
     "metadata": {},
     "output_type": "execute_result"
    }
   ],
   "source": [
    "title_reduction = {'Mr': 'Mr', 'Mrs': 'Mrs', 'Miss': 'Miss', \n",
    "                   'Master': 'Master', 'Don': 'Mr', 'Rev': 'Rev',\n",
    "                   'Dr': 'Dr', 'Mme': 'Miss', 'Ms': 'Miss',\n",
    "                   'Major': 'Mr', 'Lady': 'Mrs', 'Sir': 'Mr',\n",
    "                   'Mlle': 'Miss', 'Col': 'Mr', 'Capt': 'Mr',\n",
    "                   'Countess': 'Mrs','Jonkheer': 'Mr',\n",
    "                   'Dona': 'Mrs'}\n",
    "combined['Title'] = combined['Title'].map(title_reduction)\n",
    "combined['Title'].unique()"
   ]
  },
  {
   "cell_type": "code",
   "execution_count": 9,
   "metadata": {},
   "outputs": [
    {
     "name": "stdout",
     "output_type": "stream",
     "text": [
      "Dr 49.0\n",
      "Master 4.0\n",
      "Miss 22.0\n",
      "Mr 30.0\n",
      "Mrs 36.0\n",
      "Rev 41.5\n"
     ]
    }
   ],
   "source": [
    "for title, age in combined.groupby('Title')['Age'].median().items():\n",
    "    print(title, age)\n",
    "    combined.loc[(combined['Title']==title) & (combined['Age'].isnull()), 'Age'] = age"
   ]
  },
  {
   "attachments": {},
   "cell_type": "markdown",
   "metadata": {},
   "source": [
    "#### working with str values"
   ]
  },
  {
   "cell_type": "code",
   "execution_count": 10,
   "metadata": {},
   "outputs": [
    {
     "name": "stdout",
     "output_type": "stream",
     "text": [
      "['Name', 'Sex', 'Ticket', 'Embarked', 'set', 'Title']\n"
     ]
    }
   ],
   "source": [
    "s = (combined.dtypes == 'object')\n",
    "object_cols = list(s[s].index)\n",
    "print(object_cols)"
   ]
  },
  {
   "cell_type": "code",
   "execution_count": 11,
   "metadata": {},
   "outputs": [],
   "source": [
    "#men and women to 0 and 1\n",
    "combined['Sex'] = LabelEncoder().fit_transform(combined['Sex'])"
   ]
  },
  {
   "cell_type": "code",
   "execution_count": 12,
   "metadata": {},
   "outputs": [],
   "source": [
    "combined['Title'] = LabelEncoder().fit_transform(combined['Title'])"
   ]
  },
  {
   "cell_type": "code",
   "execution_count": 13,
   "metadata": {},
   "outputs": [
    {
     "name": "stderr",
     "output_type": "stream",
     "text": [
      "C:\\Users\\Simon\\AppData\\Local\\Temp\\ipykernel_21760\\1805731841.py:2: DeprecationWarning: In a future version, `df.iloc[:, i] = newvals` will attempt to set the values inplace instead of always setting a new array. To retain the old behavior, use either `df[df.columns[i]] = newvals` or, if columns are non-unique, `df.isetitem(i, newvals)`\n",
      "  combined.loc[:, 'Age'] = pd.qcut(combined['Age'], 4, labels=False)\n",
      "C:\\Users\\Simon\\AppData\\Local\\Temp\\ipykernel_21760\\1805731841.py:3: DeprecationWarning: In a future version, `df.iloc[:, i] = newvals` will attempt to set the values inplace instead of always setting a new array. To retain the old behavior, use either `df[df.columns[i]] = newvals` or, if columns are non-unique, `df.isetitem(i, newvals)`\n",
      "  combined.loc[:, 'Fare'] = pd.qcut(combined['Fare'], 5, labels=False)\n"
     ]
    }
   ],
   "source": [
    "#put fares into equal-sized bins\n",
    "combined.loc[:, 'Age'] = pd.qcut(combined['Age'], 4, labels=False)\n",
    "combined.loc[:, 'Fare'] = pd.qcut(combined['Fare'], 5, labels=False)"
   ]
  },
  {
   "cell_type": "code",
   "execution_count": 14,
   "metadata": {},
   "outputs": [],
   "source": [
    "combined['Accompanied'] = combined['Ticket'].duplicated(keep=False).astype(int)\n",
    "combined.loc[(combined['Accompanied']==1)|(combined['SibSp']>0)|(combined['Parch']>0), 'Accompanied'] = 1\n",
    "combined.loc[(combined['Accompanied']==0)&(combined['SibSp']==0)&(combined['Parch']==0), 'Accompanied'] = 0"
   ]
  },
  {
   "cell_type": "code",
   "execution_count": 80,
   "metadata": {},
   "outputs": [],
   "source": [
    "#gets less noise the accompanied option than the size of the family\n",
    "#combined['family_size'] = combined['Parch'] + combined['SibSp']"
   ]
  },
  {
   "cell_type": "code",
   "execution_count": 15,
   "metadata": {},
   "outputs": [
    {
     "data": {
      "text/plain": [
       "Index(['PassengerId', 'Survived', 'Pclass', 'Name', 'Sex', 'Age', 'SibSp',\n",
       "       'Parch', 'Ticket', 'Fare', 'Embarked', 'set', 'Title', 'Accompanied'],\n",
       "      dtype='object')"
      ]
     },
     "execution_count": 15,
     "metadata": {},
     "output_type": "execute_result"
    }
   ],
   "source": [
    "combined.columns"
   ]
  },
  {
   "cell_type": "code",
   "execution_count": 16,
   "metadata": {},
   "outputs": [],
   "source": [
    "#scale columns\n",
    "selected = ['Pclass', 'Sex', 'Age', 'Fare', 'Accompanied', 'Title']\n",
    "scaler = StandardScaler()\n",
    "scaler.fit(combined[selected])\n",
    "combined[selected] = scaler.transform(combined[selected])"
   ]
  },
  {
   "cell_type": "code",
   "execution_count": 17,
   "metadata": {},
   "outputs": [],
   "source": [
    "train = combined.loc[combined['set']=='train'].drop('set', axis=1).reset_index(drop=True)\n",
    "test = combined.loc[combined['set']=='test'].drop('set', axis=1).reset_index(drop=True)"
   ]
  },
  {
   "cell_type": "code",
   "execution_count": 18,
   "metadata": {},
   "outputs": [],
   "source": [
    "y_train = train.Survived"
   ]
  },
  {
   "cell_type": "code",
   "execution_count": 19,
   "metadata": {},
   "outputs": [],
   "source": [
    "train = train.drop(['PassengerId', 'Survived', 'Name', 'SibSp', 'Parch', 'Ticket', 'Embarked'], axis=1)\n",
    "test = test.drop(['PassengerId', 'Survived', 'Name', 'SibSp', 'Parch', 'Ticket', 'Embarked'], axis=1)"
   ]
  },
  {
   "cell_type": "code",
   "execution_count": 89,
   "metadata": {},
   "outputs": [],
   "source": [
    "#without Embarked it increase from 75 to 77, this column contained noise and unesful info\n",
    "#train = train.drop('Embarked', axis=1)\n",
    "#test = test.drop('Embarked', axis=1)"
   ]
  },
  {
   "cell_type": "code",
   "execution_count": 20,
   "metadata": {},
   "outputs": [
    {
     "data": {
      "text/html": [
       "<div>\n",
       "<style scoped>\n",
       "    .dataframe tbody tr th:only-of-type {\n",
       "        vertical-align: middle;\n",
       "    }\n",
       "\n",
       "    .dataframe tbody tr th {\n",
       "        vertical-align: top;\n",
       "    }\n",
       "\n",
       "    .dataframe thead th {\n",
       "        text-align: right;\n",
       "    }\n",
       "</style>\n",
       "<table border=\"1\" class=\"dataframe\">\n",
       "  <thead>\n",
       "    <tr style=\"text-align: right;\">\n",
       "      <th></th>\n",
       "      <th>Pclass</th>\n",
       "      <th>Sex</th>\n",
       "      <th>Age</th>\n",
       "      <th>Fare</th>\n",
       "      <th>Title</th>\n",
       "      <th>Accompanied</th>\n",
       "    </tr>\n",
       "  </thead>\n",
       "  <tbody>\n",
       "    <tr>\n",
       "      <th>0</th>\n",
       "      <td>0.841916</td>\n",
       "      <td>0.743497</td>\n",
       "      <td>0.646019</td>\n",
       "      <td>-1.392358</td>\n",
       "      <td>0.192495</td>\n",
       "      <td>-0.987096</td>\n",
       "    </tr>\n",
       "    <tr>\n",
       "      <th>1</th>\n",
       "      <td>0.841916</td>\n",
       "      <td>-1.344995</td>\n",
       "      <td>1.541823</td>\n",
       "      <td>-1.392358</td>\n",
       "      <td>1.484682</td>\n",
       "      <td>1.013072</td>\n",
       "    </tr>\n",
       "    <tr>\n",
       "      <th>2</th>\n",
       "      <td>-0.352091</td>\n",
       "      <td>0.743497</td>\n",
       "      <td>1.541823</td>\n",
       "      <td>-0.690279</td>\n",
       "      <td>0.192495</td>\n",
       "      <td>-0.987096</td>\n",
       "    </tr>\n",
       "    <tr>\n",
       "      <th>3</th>\n",
       "      <td>0.841916</td>\n",
       "      <td>0.743497</td>\n",
       "      <td>-0.249785</td>\n",
       "      <td>-0.690279</td>\n",
       "      <td>0.192495</td>\n",
       "      <td>-0.987096</td>\n",
       "    </tr>\n",
       "    <tr>\n",
       "      <th>4</th>\n",
       "      <td>0.841916</td>\n",
       "      <td>-1.344995</td>\n",
       "      <td>-1.145589</td>\n",
       "      <td>0.011800</td>\n",
       "      <td>1.484682</td>\n",
       "      <td>1.013072</td>\n",
       "    </tr>\n",
       "    <tr>\n",
       "      <th>...</th>\n",
       "      <td>...</td>\n",
       "      <td>...</td>\n",
       "      <td>...</td>\n",
       "      <td>...</td>\n",
       "      <td>...</td>\n",
       "      <td>...</td>\n",
       "    </tr>\n",
       "    <tr>\n",
       "      <th>413</th>\n",
       "      <td>0.841916</td>\n",
       "      <td>0.743497</td>\n",
       "      <td>-0.249785</td>\n",
       "      <td>-0.690279</td>\n",
       "      <td>0.192495</td>\n",
       "      <td>-0.987096</td>\n",
       "    </tr>\n",
       "    <tr>\n",
       "      <th>414</th>\n",
       "      <td>-1.546098</td>\n",
       "      <td>-1.344995</td>\n",
       "      <td>1.541823</td>\n",
       "      <td>1.415958</td>\n",
       "      <td>1.484682</td>\n",
       "      <td>1.013072</td>\n",
       "    </tr>\n",
       "    <tr>\n",
       "      <th>415</th>\n",
       "      <td>0.841916</td>\n",
       "      <td>0.743497</td>\n",
       "      <td>1.541823</td>\n",
       "      <td>-1.392358</td>\n",
       "      <td>0.192495</td>\n",
       "      <td>-0.987096</td>\n",
       "    </tr>\n",
       "    <tr>\n",
       "      <th>416</th>\n",
       "      <td>0.841916</td>\n",
       "      <td>0.743497</td>\n",
       "      <td>-0.249785</td>\n",
       "      <td>-0.690279</td>\n",
       "      <td>0.192495</td>\n",
       "      <td>-0.987096</td>\n",
       "    </tr>\n",
       "    <tr>\n",
       "      <th>417</th>\n",
       "      <td>0.841916</td>\n",
       "      <td>0.743497</td>\n",
       "      <td>-1.145589</td>\n",
       "      <td>0.713879</td>\n",
       "      <td>-2.391878</td>\n",
       "      <td>1.013072</td>\n",
       "    </tr>\n",
       "  </tbody>\n",
       "</table>\n",
       "<p>418 rows × 6 columns</p>\n",
       "</div>"
      ],
      "text/plain": [
       "       Pclass       Sex       Age      Fare     Title  Accompanied\n",
       "0    0.841916  0.743497  0.646019 -1.392358  0.192495    -0.987096\n",
       "1    0.841916 -1.344995  1.541823 -1.392358  1.484682     1.013072\n",
       "2   -0.352091  0.743497  1.541823 -0.690279  0.192495    -0.987096\n",
       "3    0.841916  0.743497 -0.249785 -0.690279  0.192495    -0.987096\n",
       "4    0.841916 -1.344995 -1.145589  0.011800  1.484682     1.013072\n",
       "..        ...       ...       ...       ...       ...          ...\n",
       "413  0.841916  0.743497 -0.249785 -0.690279  0.192495    -0.987096\n",
       "414 -1.546098 -1.344995  1.541823  1.415958  1.484682     1.013072\n",
       "415  0.841916  0.743497  1.541823 -1.392358  0.192495    -0.987096\n",
       "416  0.841916  0.743497 -0.249785 -0.690279  0.192495    -0.987096\n",
       "417  0.841916  0.743497 -1.145589  0.713879 -2.391878     1.013072\n",
       "\n",
       "[418 rows x 6 columns]"
      ]
     },
     "execution_count": 20,
     "metadata": {},
     "output_type": "execute_result"
    }
   ],
   "source": [
    "test"
   ]
  },
  {
   "cell_type": "code",
   "execution_count": 21,
   "metadata": {},
   "outputs": [],
   "source": [
    "from sklearn.model_selection import train_test_split\n",
    "from sklearn.metrics import mean_absolute_error\n",
    "from sklearn.neighbors import KNeighborsClassifier\n",
    "from sklearn.tree import DecisionTreeClassifier\n",
    "from sklearn.ensemble import RandomForestClassifier"
   ]
  },
  {
   "cell_type": "code",
   "execution_count": 22,
   "metadata": {},
   "outputs": [],
   "source": [
    "train_X, val_X, train_y, val_y = train_test_split(train, y_train, test_size=0.33, random_state=0)"
   ]
  },
  {
   "cell_type": "code",
   "execution_count": 23,
   "metadata": {},
   "outputs": [
    {
     "name": "stdout",
     "output_type": "stream",
     "text": [
      "85.57046979865773\n",
      "0.17627118644067796\n",
      "0.41984662251907895\n"
     ]
    }
   ],
   "source": [
    "# KNN\n",
    "#0.75\n",
    "knn = KNeighborsClassifier(n_neighbors = 3)\n",
    "knn.fit(train_X, train_y)\n",
    "predictions = knn.predict(val_X)\n",
    "acc_score = knn.score(train_X, train_y) * 100\n",
    "print(acc_score)\n",
    "mse = mean_absolute_error(val_y, predictions)\n",
    "rmse = mse**.5\n",
    "print(mse)\n",
    "print(rmse)"
   ]
  },
  {
   "cell_type": "code",
   "execution_count": 24,
   "metadata": {},
   "outputs": [
    {
     "name": "stdout",
     "output_type": "stream",
     "text": [
      "86.24161073825503\n",
      "0.18983050847457628\n",
      "0.435695430862634\n"
     ]
    }
   ],
   "source": [
    "# Random Forest\n",
    "rfc = RandomForestClassifier()\n",
    "rfc.fit(train_X, train_y)\n",
    "predictions = rfc.predict(val_X)\n",
    "acc_score = rfc.score(train_X, train_y) * 100\n",
    "print(acc_score)\n",
    "mse = mean_absolute_error(val_y, predictions)\n",
    "rmse = mse**.5\n",
    "print(mse)\n",
    "print(rmse)"
   ]
  },
  {
   "cell_type": "code",
   "execution_count": 25,
   "metadata": {},
   "outputs": [
    {
     "name": "stdout",
     "output_type": "stream",
     "text": [
      "86.24161073825503\n",
      "0.2\n",
      "0.4472135954999579\n"
     ]
    }
   ],
   "source": [
    "dtc = DecisionTreeClassifier()\n",
    "dtc.fit(train_X, train_y)\n",
    "predictions = dtc.predict(val_X)\n",
    "acc_score = dtc.score(train_X, train_y) * 100\n",
    "print(acc_score)\n",
    "mse = mean_absolute_error(val_y, predictions)\n",
    "rmse = mse**.5\n",
    "print(mse)\n",
    "print(rmse)"
   ]
  },
  {
   "cell_type": "code",
   "execution_count": 24,
   "metadata": {},
   "outputs": [],
   "source": [
    "predictions_test = knn.predict(test)"
   ]
  },
  {
   "cell_type": "code",
   "execution_count": 25,
   "metadata": {},
   "outputs": [
    {
     "data": {
      "text/html": [
       "<div>\n",
       "<style scoped>\n",
       "    .dataframe tbody tr th:only-of-type {\n",
       "        vertical-align: middle;\n",
       "    }\n",
       "\n",
       "    .dataframe tbody tr th {\n",
       "        vertical-align: top;\n",
       "    }\n",
       "\n",
       "    .dataframe thead th {\n",
       "        text-align: right;\n",
       "    }\n",
       "</style>\n",
       "<table border=\"1\" class=\"dataframe\">\n",
       "  <thead>\n",
       "    <tr style=\"text-align: right;\">\n",
       "      <th></th>\n",
       "      <th>PassengerId</th>\n",
       "      <th>Survived</th>\n",
       "    </tr>\n",
       "  </thead>\n",
       "  <tbody>\n",
       "    <tr>\n",
       "      <th>0</th>\n",
       "      <td>892</td>\n",
       "      <td>0</td>\n",
       "    </tr>\n",
       "    <tr>\n",
       "      <th>1</th>\n",
       "      <td>893</td>\n",
       "      <td>0</td>\n",
       "    </tr>\n",
       "    <tr>\n",
       "      <th>2</th>\n",
       "      <td>894</td>\n",
       "      <td>0</td>\n",
       "    </tr>\n",
       "    <tr>\n",
       "      <th>3</th>\n",
       "      <td>895</td>\n",
       "      <td>0</td>\n",
       "    </tr>\n",
       "    <tr>\n",
       "      <th>4</th>\n",
       "      <td>896</td>\n",
       "      <td>1</td>\n",
       "    </tr>\n",
       "    <tr>\n",
       "      <th>...</th>\n",
       "      <td>...</td>\n",
       "      <td>...</td>\n",
       "    </tr>\n",
       "    <tr>\n",
       "      <th>413</th>\n",
       "      <td>1305</td>\n",
       "      <td>0</td>\n",
       "    </tr>\n",
       "    <tr>\n",
       "      <th>414</th>\n",
       "      <td>1306</td>\n",
       "      <td>1</td>\n",
       "    </tr>\n",
       "    <tr>\n",
       "      <th>415</th>\n",
       "      <td>1307</td>\n",
       "      <td>0</td>\n",
       "    </tr>\n",
       "    <tr>\n",
       "      <th>416</th>\n",
       "      <td>1308</td>\n",
       "      <td>0</td>\n",
       "    </tr>\n",
       "    <tr>\n",
       "      <th>417</th>\n",
       "      <td>1309</td>\n",
       "      <td>0</td>\n",
       "    </tr>\n",
       "  </tbody>\n",
       "</table>\n",
       "<p>418 rows × 2 columns</p>\n",
       "</div>"
      ],
      "text/plain": [
       "     PassengerId  Survived\n",
       "0            892         0\n",
       "1            893         0\n",
       "2            894         0\n",
       "3            895         0\n",
       "4            896         1\n",
       "..           ...       ...\n",
       "413         1305         0\n",
       "414         1306         1\n",
       "415         1307         0\n",
       "416         1308         0\n",
       "417         1309         0\n",
       "\n",
       "[418 rows x 2 columns]"
      ]
     },
     "execution_count": 25,
     "metadata": {},
     "output_type": "execute_result"
    }
   ],
   "source": [
    "output = df_test['PassengerId'].copy()\n",
    "output = pd.DataFrame(output)\n",
    "output['Survived'] = predictions_test.astype(int)\n",
    "#output = output.reset_index(drop=True)\n",
    "output"
   ]
  },
  {
   "cell_type": "code",
   "execution_count": 59,
   "metadata": {},
   "outputs": [],
   "source": [
    "#this output gets 77 percent of the grade\n",
    "output.to_csv('C:/Users/Simon/OneDrive - Sistemas Expertos S.A.S/PC SIMON/Programacion/python/datasets/titanic/outputKnn.csv', index=False)"
   ]
  }
 ],
 "metadata": {
  "kernelspec": {
   "display_name": "Python 3",
   "language": "python",
   "name": "python3"
  },
  "language_info": {
   "codemirror_mode": {
    "name": "ipython",
    "version": 3
   },
   "file_extension": ".py",
   "mimetype": "text/x-python",
   "name": "python",
   "nbconvert_exporter": "python",
   "pygments_lexer": "ipython3",
   "version": "3.10.9"
  },
  "orig_nbformat": 4
 },
 "nbformat": 4,
 "nbformat_minor": 2
}
